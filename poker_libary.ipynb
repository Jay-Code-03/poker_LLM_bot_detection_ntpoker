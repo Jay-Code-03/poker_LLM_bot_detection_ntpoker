{
 "cells": [
  {
   "cell_type": "markdown",
   "id": "fd8d0a70",
   "metadata": {},
   "source": [
    "# eval7"
   ]
  },
  {
   "cell_type": "code",
   "execution_count": 3,
   "id": "793a9426",
   "metadata": {},
   "outputs": [],
   "source": [
    "import eval7"
   ]
  },
  {
   "cell_type": "code",
   "execution_count": 38,
   "id": "9e7f26d9",
   "metadata": {},
   "outputs": [
    {
     "name": "stdout",
     "output_type": "stream",
     "text": [
      "Hand:  [Card(\"Th\"), Card(\"As\"), Card(\"5c\"), Card(\"4d\"), Card(\"3c\"), Card(\"4c\"), Card(\"5d\")]\n"
     ]
    }
   ],
   "source": [
    "deck = eval7.Deck()\n",
    "deck.shuffle()\n",
    "hand = deck.deal(7)\n",
    "print(\"Hand: \", hand)"
   ]
  },
  {
   "cell_type": "code",
   "execution_count": 42,
   "id": "d45f0c7a",
   "metadata": {},
   "outputs": [
    {
     "data": {
      "text/plain": [
       "'Two Pair'"
      ]
     },
     "execution_count": 42,
     "metadata": {},
     "output_type": "execute_result"
    }
   ],
   "source": [
    "eval7.evaluate(hand)\n",
    "eval7.handtype(33762304)"
   ]
  },
  {
   "cell_type": "code",
   "execution_count": 13,
   "id": "87617e6c",
   "metadata": {},
   "outputs": [
    {
     "name": "stdout",
     "output_type": "stream",
     "text": [
      "[((Card(\"Ac\"), Card(\"Qc\")), 1.0), ((Card(\"Ad\"), Card(\"Qd\")), 1.0), ((Card(\"Ah\"), Card(\"Qh\")), 1.0), ((Card(\"As\"), Card(\"Qs\")), 1.0), ((Card(\"Ac\"), Card(\"Kc\")), 1.0), ((Card(\"Ad\"), Card(\"Kd\")), 1.0), ((Card(\"Ah\"), Card(\"Kh\")), 1.0), ((Card(\"As\"), Card(\"Ks\")), 1.0), ((Card(\"As\"), Card(\"Ks\")), 0.4)]\n"
     ]
    }
   ],
   "source": [
    "hr = eval7.HandRange(\"AQs+, 0.4(AsKs)\")\n",
    "print(hr.hands)"
   ]
  },
  {
   "cell_type": "code",
   "execution_count": 4,
   "id": "9a092ff9",
   "metadata": {},
   "outputs": [
    {
     "name": "stdout",
     "output_type": "stream",
     "text": [
      "Exact equity: 0.0%\n"
     ]
    }
   ],
   "source": [
    "hero_hand = [eval7.Card(\"Ah\"), eval7.Card(\"5h\")]  # Hand as Card objects\n",
    "villain_range = eval7.HandRange(\"TT+, AQs+\")  # Opponent's range\n",
    "board = [eval7.Card(\"2h\"), eval7.Card(\"Kd\"), eval7.Card(\"3c\"), eval7.Card(\"Qc\")]  # Flop\n",
    "\n",
    "equity = eval7.py_hand_vs_range_exact(hero_hand, villain_range, board)\n",
    "print(f\"Exact equity: {equity:.1%}\")  # e.g., 48.7%\n"
   ]
  },
  {
   "cell_type": "code",
   "execution_count": 5,
   "id": "d2f629f6",
   "metadata": {},
   "outputs": [
    {
     "name": "stdout",
     "output_type": "stream",
     "text": [
      "Monte Carlo equity: 12.3%\n"
     ]
    }
   ],
   "source": [
    "equity = eval7.py_hand_vs_range_monte_carlo(\n",
    "    hero_hand, \n",
    "    villain_range, \n",
    "    board, \n",
    "    100000  # More iterations = better accuracy\n",
    ")\n",
    "print(f\"Monte Carlo equity: {equity:.1%}\")  # e.g., 48.2% ± 0.5%\n"
   ]
  }
 ],
 "metadata": {
  "kernelspec": {
   "display_name": "Python 3",
   "language": "python",
   "name": "python3"
  },
  "language_info": {
   "codemirror_mode": {
    "name": "ipython",
    "version": 3
   },
   "file_extension": ".py",
   "mimetype": "text/x-python",
   "name": "python",
   "nbconvert_exporter": "python",
   "pygments_lexer": "ipython3",
   "version": "3.11.11"
  }
 },
 "nbformat": 4,
 "nbformat_minor": 5
}
